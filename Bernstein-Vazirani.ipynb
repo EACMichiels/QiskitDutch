{
 "cells": [
  {
   "cell_type": "markdown",
   "metadata": {},
   "source": [
    "### Het Bernstein-Vazirani Algorithme\n",
    "In dit Jupyter Notebook geven een een eenvoudige inleiding to het Bernstein-Vazirani Algorithme. \n",
    "Voor een volledige gedetaileerde uitleg verwijs ik naar het Qiskik Textbook. \n",
    "[Qiskit Textbook - Bernsstein-Vazirani] (https://qiskit.org/textbook/ch-algorithms/bernstein-vazirani.html)\n",
    "\n",
    "In dit notebook ga ik niet in op de wiskundige bewijsvoering, maar houd ik het zeer praktisch. \n",
    "\n",
    "Het Bernstein-Vazirani algoritme dient om een geheime string (secret) snel te vinden. Een woordje uitleg.\n",
    "\n",
    "Stel ik plaats een geheime string van 5 bits in een zwarte doos. Aan jou de opdracht om deze geheime string te vinden. Vele, denken dat ik in het slechtste geval 31 keer moet raden om de string te vinden. Stel immers dat je altijd de pech hebt om de verkeerde bit string te kiezen.\n",
    "\n",
    "Dit is echter te pessimistisch. Met een Classical Computer vind je de string in 5 keer. Hoe dan wel? Wel, veronderstel dat ik als geheime string gekozen heb '11010'. Het enige wat jij hoeft te doen is vijf keer een bit-gewijze AND operatie uit te voeren (hierbij werken we van rechts naar links, van de minst-significante naar de mees-significante bit)\n",
    "\n",
    "- Bekijk enkel de eerste bit: 11010 AND 00001 = 11010 --> de eerste bit moet dus '0' zijn want de AND operatie geeft '0'\n",
    "- Bekijk enkel de tweede bit: 11010 AND 00010 = 11010 --> de tweede bit moet dus '1' zijn want de AND operatie geedt '1'\n",
    "- Bekijk enkel de derde bit: 11010 AND 00100 = 11010 --> de derde bit moet dus '0' zijn want de AND operatie geeft '0'\n",
    "- Enzoverder.\n",
    "\n",
    "Zo vinden we in 5 \"vragen\" de juiste geheime bit string. \n",
    "\n",
    "En nu onze spectaculaire bewering: met een Quantum Circuit los je dit met één enkele vraagstelling direct correct op !\n",
    "\n",
    "We houden het hier bij 5 qubits maar dit voorbeeldje kan je gerust eens uiwerkenn voor meer qubits. Misschien een Uistekende Oefening voor Thuis (\"UOVT\")?"
   ]
  },
  {
   "cell_type": "code",
   "execution_count": 1,
   "metadata": {},
   "outputs": [],
   "source": [
    "# We starten met het importeren van het Qiskit framework, alsook de nodig visualizatie middelen.\n",
    "from qiskit import *"
   ]
  },
  {
   "cell_type": "code",
   "execution_count": 2,
   "metadata": {},
   "outputs": [],
   "source": [
    "%matplotlib inline"
   ]
  },
  {
   "cell_type": "code",
   "execution_count": 3,
   "metadata": {},
   "outputs": [],
   "source": [
    "from qiskit.tools.visualization import plot_histogram"
   ]
  },
  {
   "cell_type": "code",
   "execution_count": 4,
   "metadata": {},
   "outputs": [],
   "source": [
    "secretnumber = '11010'"
   ]
  },
  {
   "cell_type": "code",
   "execution_count": 12,
   "metadata": {},
   "outputs": [
    {
     "data": {
      "text/plain": [
       "<qiskit.circuit.instructionset.InstructionSet at 0x231668ebd48>"
      ]
     },
     "execution_count": 12,
     "metadata": {},
     "output_type": "execute_result"
    }
   ],
   "source": [
    "# We creëren een Quantum Circuit met 5+1 = 6 Qubits en 5 Classical Bits.\n",
    "ericcircuit = QuantumCircuit(5+1, 5)\n",
    "\n",
    "# Dit is de creatie van het circuit dat het Bernstein-Vazirani ALgorithme realiseert.\n",
    "\n",
    "# We zien een initializatie met Hadamard Gates en voor de bijkomende Qubit eerst nog een Bitflip\n",
    "ericcircuit.h([0,1,2,3,4])\n",
    "ericcircuit.x([5])\n",
    "ericcircuit.h([5])\n",
    "ericcircuit.barrier()\n",
    "\n",
    "# Dit noemen we in Quantum Computing het \"Oracle\"\n",
    "s = secretnumber[::-1] # reverse s to fit qiskit's qubit ordering\n",
    "for q in range(5):\n",
    "    if s[q] == '0':\n",
    "        ericcircuit.i(q)\n",
    "    else:\n",
    "        ericcircuit.cx(q, 5)\n",
    "\n",
    "ericcircuit.barrier()\n",
    "\n",
    "ericcircuit.h([0,1,2,3,4])\n",
    "ericcircuit.barrier()\n",
    "\n",
    "ericcircuit.measure([0,1,2,3,4], [0,1,2,3,4])"
   ]
  },
  {
   "cell_type": "code",
   "execution_count": 13,
   "metadata": {},
   "outputs": [
    {
     "data": {
      "image/png": "[encoded data removed]",
      "text/plain": [
       "<Figure size 1020.99x445.48 with 1 Axes>"
      ]
     },
     "execution_count": 13,
     "metadata": {},
     "output_type": "execute_result"
    }
   ],
   "source": [
    "ericcircuit.draw(output = 'mpl')"
   ]
  },
  {
   "cell_type": "code",
   "execution_count": 14,
   "metadata": {},
   "outputs": [
    {
     "name": "stdout",
     "output_type": "stream",
     "text": [
      "{'11010': 1}\n"
     ]
    }
   ],
   "source": [
    "ericsimulator = Aer.get_backend('qasm_simulator')\n",
    "result = execute(ericcircuit, backend = ericsimulator, shots = 1).result()\n",
    "counts = result.get_counts()\n",
    "print(counts)"
   ]
  },
  {
   "cell_type": "markdown",
   "metadata": {},
   "source": [
    "We hadden slechts één shot nodig !\n",
    "Aan jullie de opdracht: voer dit nu uit op een echte Quantum Computer ! \n",
    " \n",
    "Dit notebook kunnen jullie hier vinden: [Github van Eric Michiels] (https://github.com/EACMichiels/QiskitDutch)"
   ]
  }
 ],
 "metadata": {
  "kernelspec": {
   "display_name": "Python 3",
   "language": "python",
   "name": "python3"
  },
  "language_info": {
   "codemirror_mode": {
    "name": "ipython",
    "version": 3
   },
   "file_extension": ".py",
   "mimetype": "text/x-python",
   "name": "python",
   "nbconvert_exporter": "python",
   "pygments_lexer": "ipython3",
   "version": "3.7.6"
  }
 },
 "nbformat": 4,
 "nbformat_minor": 4
}
